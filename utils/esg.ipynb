{
 "cells": [
  {
   "cell_type": "code",
   "execution_count": 1,
   "id": "ac8f810f-7d59-49a7-ad31-c631570e4184",
   "metadata": {},
   "outputs": [
    {
     "name": "stdout",
     "output_type": "stream",
     "text": [
      "{'esg_id': 4720, 'company_name': 'Microsoft Corporation', 'exchange_symbol': 'NASDAQ', 'stock_symbol': 'MSFT', 'environment_grade': 'BBB', 'environment_level': 'High', 'social_grade': 'B', 'social_level': 'Medium', 'governance_grade': 'B', 'governance_level': 'Medium', 'total_grade': 'BB', 'total_level': 'Medium', 'disclaimer': 'ESG Enterprise\\'s ESG Rating data (\"Scores\") are all based on public information and provided for informational purposes only. No member of ESG Enterprise or related parties make any prediction, warranty or representation whatsoever, expressly or impliedly, either as to the suitability of our Scores for any particular purposes or the validity of any derivative analysis or conclusion based on the Scores.', 'last_processing_date': '01-12-2021', 'environment_score': 455, 'social_score': 238, 'governance_score': 225, 'total': 918}\n"
     ]
    },
    {
     "data": {
      "text/html": [
       "<div>\n",
       "<style scoped>\n",
       "    .dataframe tbody tr th:only-of-type {\n",
       "        vertical-align: middle;\n",
       "    }\n",
       "\n",
       "    .dataframe tbody tr th {\n",
       "        vertical-align: top;\n",
       "    }\n",
       "\n",
       "    .dataframe thead th {\n",
       "        text-align: right;\n",
       "    }\n",
       "</style>\n",
       "<table border=\"1\" class=\"dataframe\">\n",
       "  <thead>\n",
       "    <tr style=\"text-align: right;\">\n",
       "      <th></th>\n",
       "      <th>Environment Grade</th>\n",
       "      <th>Governance Grade</th>\n",
       "      <th>Social Grade</th>\n",
       "    </tr>\n",
       "  </thead>\n",
       "  <tbody>\n",
       "    <tr>\n",
       "      <th>MSFT</th>\n",
       "      <td>BBB</td>\n",
       "      <td>B</td>\n",
       "      <td>B</td>\n",
       "    </tr>\n",
       "  </tbody>\n",
       "</table>\n",
       "</div>"
      ],
      "text/plain": [
       "     Environment Grade Governance Grade Social Grade\n",
       "MSFT               BBB                B            B"
      ]
     },
     "metadata": {},
     "output_type": "display_data"
    }
   ],
   "source": [
    "\n",
    "import datetime as dt\n",
    "from dotenv import load_dotenv\n",
    "import sys\n",
    "import os\n",
    "import pandas as pd\n",
    "import requests\n",
    "import json\n",
    "from pprint import pprint\n",
    "\n",
    "\n",
    "#import environment variables\n",
    "load_dotenv()\n",
    "ESG_api_key = os.getenv('ESG_API_KEY')\n",
    "rapidapi_host = 'esg-environmental-social-governance-data.p.rapidapi.com'\n",
    "\n",
    "\n",
    "\n",
    "\n",
    "url = \"https://esg-environmental-social-governance-data.p.rapidapi.com/search\"\n",
    "headers = {\n",
    "    'x-rapidapi-host': \"esg-environmental-social-governance-data.p.rapidapi.com\",\n",
    "    'x-rapidapi-key': \"ed5753e239msh35bbc80821a70dcp1cc1c1jsn993b485f9da5\"\n",
    "    }\n",
    "\n",
    "\n",
    "\n",
    "\n",
    "def get_esg_df(ticker):\n",
    "    ESG_df = pd.DataFrame(index = [ticker], columns = ['Environment Grade', 'Governance Grade', 'Social Grade'])\n",
    "    \n",
    "    querystring = {'q' : ticker}\n",
    "    ticker = ticker\n",
    "\n",
    "    response = requests.request(\"GET\", url, headers=headers, params=querystring).json()\n",
    "    print(response[0])\n",
    "    env_grade = response[0]['environment_grade']\n",
    "    gov_grade = response[0]['governance_grade']\n",
    "    social_grade = response[0]['social_grade']\n",
    "    ESG_df.loc[ticker]['Environment Grade'] = env_grade\n",
    "    ESG_df.loc[ticker]['Governance Grade'] = gov_grade\n",
    "    ESG_df.loc[ticker]['Social Grade'] = social_grade  \n",
    "    \n",
    "    return ESG_df                \n",
    "\n",
    "msft = get_esg_df('MSFT')\n",
    "display(msft)"
   ]
  },
  {
   "cell_type": "code",
   "execution_count": null,
   "id": "62cb4a06-b962-4ac5-b386-402918892e30",
   "metadata": {},
   "outputs": [],
   "source": []
  }
 ],
 "metadata": {
  "kernelspec": {
   "display_name": "dev",
   "language": "python",
   "name": "dev"
  },
  "language_info": {
   "codemirror_mode": {
    "name": "ipython",
    "version": 3
   },
   "file_extension": ".py",
   "mimetype": "text/x-python",
   "name": "python",
   "nbconvert_exporter": "python",
   "pygments_lexer": "ipython3",
   "version": "3.7.11"
  }
 },
 "nbformat": 4,
 "nbformat_minor": 5
}
