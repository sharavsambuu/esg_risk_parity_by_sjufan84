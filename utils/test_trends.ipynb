{
 "cells": [
  {
   "cell_type": "code",
   "execution_count": 5,
   "id": "a5428c1b-0e66-4757-bcf1-457fb31f5208",
   "metadata": {},
   "outputs": [
    {
     "name": "stdout",
     "output_type": "stream",
     "text": [
      "                           AAPL Searches\n",
      "Date                                    \n",
      "2021-07-01 00:00:00-04:00             42\n",
      "2021-07-02 00:00:00-04:00             50\n",
      "2021-07-03 00:00:00-04:00             13\n",
      "2021-07-04 00:00:00-04:00              4\n",
      "2021-07-06 00:00:00-04:00             54\n",
      "...                                  ...\n",
      "2022-01-16 00:00:00-05:00              7\n",
      "2022-01-17 00:00:00-05:00             15\n",
      "2022-01-18 00:00:00-05:00             28\n",
      "2022-01-19 00:00:00-05:00             24\n",
      "2022-01-20 00:00:00-05:00             24\n",
      "\n",
      "[203 rows x 1 columns]\n"
     ]
    }
   ],
   "source": [
    "import pandas as pd\n",
    "from pathlib import Path\n",
    "\n",
    "def concat_trends(ticker, df):\n",
    "    Path = '../sentiment_analysis/Resources/google_trends/{}.csv'.format(ticker)\n",
    "    trends_data_df = pd.read_csv(Path, index_col = 'Date', parse_dates = True, infer_datetime_format = True)\n",
    "    trends_data_df.index = trends_data_df.index.tz_localize(tz=\"America/New_York\")\n",
    "    \n",
    "\n",
    "    #trends_data_df = df.assign(key=df.index.normalize()).merge(trends_data_df, left_on='key', right_index=True, how='left').drop('key', 1)\n",
    "    \n",
    "    trends_data_df.dropna()\n",
    "    \n",
    "    return trends_data_df\n",
    "\n",
    "df = pd.DataFrame()\n",
    "df = concat_trends('AAPL', df)\n",
    "print(df)\n"
   ]
  },
  {
   "cell_type": "code",
   "execution_count": null,
   "id": "49bb49fe-f08b-435a-8427-294d56fde9df",
   "metadata": {},
   "outputs": [],
   "source": []
  }
 ],
 "metadata": {
  "kernelspec": {
   "display_name": "dev",
   "language": "python",
   "name": "dev"
  },
  "language_info": {
   "codemirror_mode": {
    "name": "ipython",
    "version": 3
   },
   "file_extension": ".py",
   "mimetype": "text/x-python",
   "name": "python",
   "nbconvert_exporter": "python",
   "pygments_lexer": "ipython3",
   "version": "3.7.11"
  }
 },
 "nbformat": 4,
 "nbformat_minor": 5
}
